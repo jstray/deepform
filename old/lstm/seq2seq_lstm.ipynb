{
 "cells": [
  {
   "cell_type": "code",
   "execution_count": 1,
   "metadata": {
    "colab": {
     "base_uri": "https://localhost:8080/",
     "height": 989
    },
    "colab_type": "code",
    "id": "Aa4xs1K5H95d",
    "outputId": "2ea0028a-20f4-4483-bec3-8d1252c77747"
   },
   "outputs": [
    {
     "name": "stdout",
     "output_type": "stream",
     "text": [
      "Collecting tensorflow==2.1.0\n",
      "\u001b[?25l  Downloading https://files.pythonhosted.org/packages/85/d4/c0cd1057b331bc38b65478302114194bd8e1b9c2bbc06e300935c0e93d90/tensorflow-2.1.0-cp36-cp36m-manylinux2010_x86_64.whl (421.8MB)\n",
      "\u001b[K     |████████████████████████████████| 421.8MB 37kB/s \n",
      "\u001b[?25hRequirement already satisfied: keras-applications>=1.0.8 in /usr/local/lib/python3.6/dist-packages (from tensorflow==2.1.0) (1.0.8)\n",
      "Requirement already satisfied: absl-py>=0.7.0 in /usr/local/lib/python3.6/dist-packages (from tensorflow==2.1.0) (0.9.0)\n",
      "Requirement already satisfied: wrapt>=1.11.1 in /usr/local/lib/python3.6/dist-packages (from tensorflow==2.1.0) (1.12.1)\n",
      "Requirement already satisfied: astor>=0.6.0 in /usr/local/lib/python3.6/dist-packages (from tensorflow==2.1.0) (0.8.1)\n",
      "Requirement already satisfied: grpcio>=1.8.6 in /usr/local/lib/python3.6/dist-packages (from tensorflow==2.1.0) (1.27.2)\n",
      "Requirement already satisfied: protobuf>=3.8.0 in /usr/local/lib/python3.6/dist-packages (from tensorflow==2.1.0) (3.10.0)\n",
      "Requirement already satisfied: google-pasta>=0.1.6 in /usr/local/lib/python3.6/dist-packages (from tensorflow==2.1.0) (0.2.0)\n",
      "Collecting gast==0.2.2\n",
      "  Downloading https://files.pythonhosted.org/packages/4e/35/11749bf99b2d4e3cceb4d55ca22590b0d7c2c62b9de38ac4a4a7f4687421/gast-0.2.2.tar.gz\n",
      "Requirement already satisfied: six>=1.12.0 in /usr/local/lib/python3.6/dist-packages (from tensorflow==2.1.0) (1.12.0)\n",
      "Requirement already satisfied: keras-preprocessing>=1.1.0 in /usr/local/lib/python3.6/dist-packages (from tensorflow==2.1.0) (1.1.0)\n",
      "Requirement already satisfied: opt-einsum>=2.3.2 in /usr/local/lib/python3.6/dist-packages (from tensorflow==2.1.0) (3.2.0)\n",
      "Requirement already satisfied: numpy<2.0,>=1.16.0 in /usr/local/lib/python3.6/dist-packages (from tensorflow==2.1.0) (1.18.2)\n",
      "Requirement already satisfied: scipy==1.4.1; python_version >= \"3\" in /usr/local/lib/python3.6/dist-packages (from tensorflow==2.1.0) (1.4.1)\n",
      "Requirement already satisfied: tensorboard<2.2.0,>=2.1.0 in /usr/local/lib/python3.6/dist-packages (from tensorflow==2.1.0) (2.1.1)\n",
      "Requirement already satisfied: wheel>=0.26; python_version >= \"3\" in /usr/local/lib/python3.6/dist-packages (from tensorflow==2.1.0) (0.34.2)\n",
      "Requirement already satisfied: termcolor>=1.1.0 in /usr/local/lib/python3.6/dist-packages (from tensorflow==2.1.0) (1.1.0)\n",
      "Collecting tensorflow-estimator<2.2.0,>=2.1.0rc0\n",
      "\u001b[?25l  Downloading https://files.pythonhosted.org/packages/18/90/b77c328a1304437ab1310b463e533fa7689f4bfc41549593056d812fab8e/tensorflow_estimator-2.1.0-py2.py3-none-any.whl (448kB)\n",
      "\u001b[K     |████████████████████████████████| 450kB 31.7MB/s \n",
      "\u001b[?25hRequirement already satisfied: h5py in /usr/local/lib/python3.6/dist-packages (from keras-applications>=1.0.8->tensorflow==2.1.0) (2.10.0)\n",
      "Requirement already satisfied: setuptools in /usr/local/lib/python3.6/dist-packages (from protobuf>=3.8.0->tensorflow==2.1.0) (46.0.0)\n",
      "Requirement already satisfied: werkzeug>=0.11.15 in /usr/local/lib/python3.6/dist-packages (from tensorboard<2.2.0,>=2.1.0->tensorflow==2.1.0) (1.0.0)\n",
      "Requirement already satisfied: markdown>=2.6.8 in /usr/local/lib/python3.6/dist-packages (from tensorboard<2.2.0,>=2.1.0->tensorflow==2.1.0) (3.2.1)\n",
      "Requirement already satisfied: google-auth-oauthlib<0.5,>=0.4.1 in /usr/local/lib/python3.6/dist-packages (from tensorboard<2.2.0,>=2.1.0->tensorflow==2.1.0) (0.4.1)\n",
      "Requirement already satisfied: google-auth<2,>=1.6.3 in /usr/local/lib/python3.6/dist-packages (from tensorboard<2.2.0,>=2.1.0->tensorflow==2.1.0) (1.7.2)\n",
      "Requirement already satisfied: requests<3,>=2.21.0 in /usr/local/lib/python3.6/dist-packages (from tensorboard<2.2.0,>=2.1.0->tensorflow==2.1.0) (2.21.0)\n",
      "Requirement already satisfied: requests-oauthlib>=0.7.0 in /usr/local/lib/python3.6/dist-packages (from google-auth-oauthlib<0.5,>=0.4.1->tensorboard<2.2.0,>=2.1.0->tensorflow==2.1.0) (1.3.0)\n",
      "Requirement already satisfied: pyasn1-modules>=0.2.1 in /usr/local/lib/python3.6/dist-packages (from google-auth<2,>=1.6.3->tensorboard<2.2.0,>=2.1.0->tensorflow==2.1.0) (0.2.8)\n",
      "Requirement already satisfied: rsa<4.1,>=3.1.4 in /usr/local/lib/python3.6/dist-packages (from google-auth<2,>=1.6.3->tensorboard<2.2.0,>=2.1.0->tensorflow==2.1.0) (4.0)\n",
      "Requirement already satisfied: cachetools<3.2,>=2.0.0 in /usr/local/lib/python3.6/dist-packages (from google-auth<2,>=1.6.3->tensorboard<2.2.0,>=2.1.0->tensorflow==2.1.0) (3.1.1)\n",
      "Requirement already satisfied: certifi>=2017.4.17 in /usr/local/lib/python3.6/dist-packages (from requests<3,>=2.21.0->tensorboard<2.2.0,>=2.1.0->tensorflow==2.1.0) (2019.11.28)\n",
      "Requirement already satisfied: urllib3<1.25,>=1.21.1 in /usr/local/lib/python3.6/dist-packages (from requests<3,>=2.21.0->tensorboard<2.2.0,>=2.1.0->tensorflow==2.1.0) (1.24.3)\n",
      "Requirement already satisfied: idna<2.9,>=2.5 in /usr/local/lib/python3.6/dist-packages (from requests<3,>=2.21.0->tensorboard<2.2.0,>=2.1.0->tensorflow==2.1.0) (2.8)\n",
      "Requirement already satisfied: chardet<3.1.0,>=3.0.2 in /usr/local/lib/python3.6/dist-packages (from requests<3,>=2.21.0->tensorboard<2.2.0,>=2.1.0->tensorflow==2.1.0) (3.0.4)\n",
      "Requirement already satisfied: oauthlib>=3.0.0 in /usr/local/lib/python3.6/dist-packages (from requests-oauthlib>=0.7.0->google-auth-oauthlib<0.5,>=0.4.1->tensorboard<2.2.0,>=2.1.0->tensorflow==2.1.0) (3.1.0)\n",
      "Requirement already satisfied: pyasn1<0.5.0,>=0.4.6 in /usr/local/lib/python3.6/dist-packages (from pyasn1-modules>=0.2.1->google-auth<2,>=1.6.3->tensorboard<2.2.0,>=2.1.0->tensorflow==2.1.0) (0.4.8)\n",
      "Building wheels for collected packages: gast\n",
      "  Building wheel for gast (setup.py) ... \u001b[?25l\u001b[?25hdone\n",
      "  Created wheel for gast: filename=gast-0.2.2-cp36-none-any.whl size=7540 sha256=549852129cc6b672a8acbf87740dfb4080894eaa3c8721637adb65fc1df9d533\n",
      "  Stored in directory: /root/.cache/pip/wheels/5c/2e/7e/a1d4d4fcebe6c381f378ce7743a3ced3699feb89bcfbdadadd\n",
      "Successfully built gast\n",
      "Installing collected packages: gast, tensorflow-estimator, tensorflow\n",
      "  Found existing installation: gast 0.3.3\n",
      "    Uninstalling gast-0.3.3:\n",
      "      Successfully uninstalled gast-0.3.3\n",
      "  Found existing installation: tensorflow-estimator 2.2.0rc0\n",
      "    Uninstalling tensorflow-estimator-2.2.0rc0:\n",
      "      Successfully uninstalled tensorflow-estimator-2.2.0rc0\n",
      "  Found existing installation: tensorflow 2.2.0rc1\n",
      "    Uninstalling tensorflow-2.2.0rc1:\n",
      "      Successfully uninstalled tensorflow-2.2.0rc1\n",
      "Successfully installed gast-0.2.2 tensorflow-2.1.0 tensorflow-estimator-2.1.0\n"
     ]
    }
   ],
   "source": [
    "!pip3 install tensorflow==2.1.0\n",
    "#!pip3 install pandas==0.25.3\n",
    "#!pip3 install numpy==1.18.1"
   ]
  },
  {
   "cell_type": "code",
   "execution_count": 0,
   "metadata": {
    "colab": {
     "base_uri": "https://localhost:8080/",
     "height": 34
    },
    "colab_type": "code",
    "id": "S7VIz8ZvgMCh",
    "outputId": "ed134cb4-8ee5-4e58-979d-c1a977bfd767"
   },
   "outputs": [
    {
     "data": {
      "text/plain": [
       "'2.1.0'"
      ]
     },
     "execution_count": 2,
     "metadata": {
      "tags": []
     },
     "output_type": "execute_result"
    }
   ],
   "source": [
    "import tensorflow as tf\n",
    "tf.__version__"
   ]
  },
  {
   "cell_type": "code",
   "execution_count": 0,
   "metadata": {
    "colab": {},
    "colab_type": "code",
    "id": "6nFHl1BaHK8f"
   },
   "outputs": [],
   "source": [
    "import os\n",
    "import numpy as np\n",
    "import pandas as pd\n",
    "import pickle\n",
    "from tensorflow.keras import layers , activations , models , preprocessing, utils\n",
    "import datetime"
   ]
  },
  {
   "cell_type": "code",
   "execution_count": 0,
   "metadata": {
    "colab": {},
    "colab_type": "code",
    "id": "zOvBupS0OUvH"
   },
   "outputs": [],
   "source": [
    "from google.colab import auth\n",
    "auth.authenticate_user()"
   ]
  },
  {
   "cell_type": "markdown",
   "metadata": {
    "colab_type": "text",
    "id": "9XXbmo7a5NHF"
   },
   "source": [
    "### Read Data In"
   ]
  },
  {
   "cell_type": "code",
   "execution_count": 0,
   "metadata": {
    "colab": {},
    "colab_type": "code",
    "id": "QyTZi6xwYbTe"
   },
   "outputs": [],
   "source": [
    "def load_files(filenames):\n",
    "    yield pd.read_csv(filenames)"
   ]
  },
  {
   "cell_type": "code",
   "execution_count": 0,
   "metadata": {
    "colab": {},
    "colab_type": "code",
    "id": "gl56W1W6IO7z"
   },
   "outputs": [],
   "source": [
    "# Specify path from Google Drive\n",
    "data_file = '/content/drive/My Drive/deep_form/mini_training.csv'\n",
    "committee_file = '/content/drive/My Drive/deep_form/slug_committee_labels.csv' \n",
    "\n",
    "# slugs and processed tokens\n",
    "data_df = pd.concat(load_files(data_file))\n",
    "data_df = data_df.drop(columns = 'token') # Remove unwanted column (token is redundant)\n",
    "data_df['processed'] = data_df['processed'].astype(str) # Make sure we are dealing with strings\n",
    "\n",
    "# committee info\n",
    "committee_df = pd.read_csv(committee_file)\n",
    "committee_df.drop(columns='Unnamed: 0', inplace=True) # Remove unwanted column\n",
    "committee_df['committee'] = committee_df['committee'].str.lower() # Lower case committee names\n",
    "\n",
    "# Time stamp to remember when we ran/trained this model run\n",
    "timestamp = datetime.datetime.now().strftime(\"%d.%m.%H.%M\")"
   ]
  },
  {
   "cell_type": "code",
   "execution_count": 0,
   "metadata": {
    "colab": {},
    "colab_type": "code",
    "id": "lM8XuRv2Ioji"
   },
   "outputs": [],
   "source": [
    "# Merge both .csv (now DataFrames) into one\n",
    "df = pd.merge(data_df, committee_df, on='slug')\n",
    "\n",
    "# Group together based on slug and committee\n",
    "df = df.groupby(['slug','committee'])['processed'].apply(\n",
    "    lambda a: ' '.join([str(x) for x in a])).reset_index()\n",
    "\n",
    "# Grab our input and target training data\n",
    "input_texts = df['processed'].to_list()\n",
    "target_texts = df['committee'].to_list()\n",
    "\n",
    "# Set '<START> ' as the \"start sequence\" character\n",
    "# for the targets, and ' <END>' as \"end sequence\" character.\n",
    "target_texts = ['<START> ' + s + ' <END>' for s in target_texts]"
   ]
  },
  {
   "cell_type": "markdown",
   "metadata": {
    "colab_type": "text",
    "id": "35RtuO045hU3"
   },
   "source": [
    "### Format data for training"
   ]
  },
  {
   "cell_type": "code",
   "execution_count": 0,
   "metadata": {
    "colab": {
     "base_uri": "https://localhost:8080/",
     "height": 34
    },
    "colab_type": "code",
    "id": "m_EDyfKE4Lrn",
    "outputId": "1a774362-fbf0-4a50-89fb-c80eeb899e98"
   },
   "outputs": [
    {
     "name": "stdout",
     "output_type": "stream",
     "text": [
      "VOCAB SIZE : 25157\n"
     ]
    }
   ],
   "source": [
    "# Tokenization \n",
    "tokenizer = preprocessing.text.Tokenizer()\n",
    "tokenizer.fit_on_texts( input_texts + target_texts )\n",
    "VOCAB_SIZE = len( tokenizer.word_index )+1\n",
    "print( 'VOCAB SIZE : {}'.format( VOCAB_SIZE ))\n",
    "\n",
    "vocab = []\n",
    "for word in tokenizer.word_index:\n",
    "    vocab.append( word )"
   ]
  },
  {
   "cell_type": "code",
   "execution_count": null,
   "metadata": {},
   "outputs": [],
   "source": [
    "# The tokenizer will transform the text into vectors, it’s important to have the same vector space\n",
    "# between training & predicting. The most common way is to save tokenizer and load the same\n",
    "# tokenizer at predicting time using pickle.\n",
    "\n",
    "with open('tokenizer.pickle', 'wb') as handle:\n",
    "    pickle.dump(tokenizer, handle, protocol=pickle.HIGHEST_PROTOCOL)"
   ]
  },
  {
   "cell_type": "code",
   "execution_count": 0,
   "metadata": {
    "colab": {
     "base_uri": "https://localhost:8080/",
     "height": 68
    },
    "colab_type": "code",
    "id": "UD5TxFIcJFK3",
    "outputId": "85ab7435-7b8b-4651-9ae5-0b29c883e997"
   },
   "outputs": [
    {
     "name": "stdout",
     "output_type": "stream",
     "text": [
      "Encoder input shape: (4510, 13678)\n",
      "Decoder input shape: (4510, 12)\n",
      "Decoder output data shape: (4510, 12, 25157)\n"
     ]
    }
   ],
   "source": [
    "# encoder_input_data\n",
    "tokenized_inputs = tokenizer.texts_to_sequences( input_texts )\n",
    "maxlen_inputs = max( [ len(x) for x in tokenized_inputs ] )\n",
    "padded_inputs = preprocessing.sequence.pad_sequences(tokenized_inputs,\n",
    "                                                    maxlen=maxlen_inputs,\n",
    "                                                    padding='post' )\n",
    "encoder_input_data = np.array( padded_inputs )\n",
    "print(\"Encoder input shape: {}\".format(encoder_input_data.shape , maxlen_inputs ))\n",
    "\n",
    "# decoder_input_data\n",
    "tokenized_targets = tokenizer.texts_to_sequences( target_texts )\n",
    "maxlen_targets = max( [ len(x) for x in tokenized_targets ] )\n",
    "padded_targets = preprocessing.sequence.pad_sequences(tokenized_targets,\n",
    "                                                      maxlen=maxlen_targets, padding='post' )\n",
    "decoder_input_data = np.array( padded_targets )\n",
    "print(\"Decoder input shape: {}\".format(decoder_input_data.shape , maxlen_targets ))\n",
    "\n",
    "# decoder_output_data\n",
    "tokenized_answers = tokenizer.texts_to_sequences( target_texts )\n",
    "for i in range(len(tokenized_answers)) :\n",
    "    tokenized_answers[i] = tokenized_answers[i][1:]\n",
    "padded_targets = preprocessing.sequence.pad_sequences( tokenized_answers,\n",
    "                                                      maxlen=maxlen_targets , padding='post' )\n",
    "onehot_answers = utils.to_categorical( padded_targets , VOCAB_SIZE )\n",
    "decoder_output_data = np.array( onehot_answers )\n",
    "print(\"Decoder output data shape: {}\".format(decoder_output_data.shape ))"
   ]
  },
  {
   "cell_type": "markdown",
   "metadata": {
    "colab_type": "text",
    "id": "5f7IX91F4aPq"
   },
   "source": [
    "## seq2seq model¶\n"
   ]
  },
  {
   "cell_type": "code",
   "execution_count": 0,
   "metadata": {
    "colab": {},
    "colab_type": "code",
    "id": "VEzvNv_oGerg"
   },
   "outputs": [],
   "source": [
    "# Hyperparameters\n",
    "batch_size = 50\n",
    "num_epochs = 75\n",
    "num_units  = 200\n",
    "loss_function = 'categorical_crossentropy'\n",
    "validation_split = 0.2\n",
    "\n",
    "# Files to save:\n",
    "model_filename = 'model.' + timestamp + '.h5'\n",
    "learning_curve_image_name = 'lstm.'+ timestamp + '.png'"
   ]
  },
  {
   "cell_type": "code",
   "execution_count": 0,
   "metadata": {
    "colab": {
     "base_uri": "https://localhost:8080/",
     "height": 425
    },
    "colab_type": "code",
    "id": "BdjofkDHJOHb",
    "outputId": "87d689b5-b2ea-4a3c-f60a-6cd7d7307e9f"
   },
   "outputs": [
    {
     "name": "stdout",
     "output_type": "stream",
     "text": [
      "Model: \"model\"\n",
      "__________________________________________________________________________________________________\n",
      "Layer (type)                    Output Shape         Param #     Connected to                     \n",
      "==================================================================================================\n",
      "input_1 (InputLayer)            [(None, None)]       0                                            \n",
      "__________________________________________________________________________________________________\n",
      "input_2 (InputLayer)            [(None, None)]       0                                            \n",
      "__________________________________________________________________________________________________\n",
      "embedding (Embedding)           (None, None, 200)    5031400     input_1[0][0]                    \n",
      "__________________________________________________________________________________________________\n",
      "embedding_1 (Embedding)         (None, None, 200)    5031400     input_2[0][0]                    \n",
      "__________________________________________________________________________________________________\n",
      "lstm (LSTM)                     [(None, 200), (None, 320800      embedding[0][0]                  \n",
      "__________________________________________________________________________________________________\n",
      "lstm_1 (LSTM)                   [(None, None, 200),  320800      embedding_1[0][0]                \n",
      "                                                                 lstm[0][1]                       \n",
      "                                                                 lstm[0][2]                       \n",
      "__________________________________________________________________________________________________\n",
      "dense (Dense)                   (None, None, 25157)  5056557     lstm_1[0][0]                     \n",
      "==================================================================================================\n",
      "Total params: 15,760,957\n",
      "Trainable params: 15,760,957\n",
      "Non-trainable params: 0\n",
      "__________________________________________________________________________________________________\n"
     ]
    }
   ],
   "source": [
    "encoder_inputs = tf.keras.layers.Input(shape=( None , ))\n",
    "encoder_embedding = tf.keras.layers.Embedding( VOCAB_SIZE, 200 , mask_zero=True ) (encoder_inputs)\n",
    "encoder_outputs , state_h , state_c = tf.keras.layers.LSTM( 200 , return_state=True )( encoder_embedding )\n",
    "encoder_states = [ state_h , state_c ]\n",
    "\n",
    "decoder_inputs = tf.keras.layers.Input(shape=( None ,  ))\n",
    "decoder_embedding = tf.keras.layers.Embedding( VOCAB_SIZE, 200 , mask_zero=True) (decoder_inputs)\n",
    "decoder_lstm = tf.keras.layers.LSTM( 200 , return_state=True , return_sequences=True )\n",
    "decoder_outputs , _ , _ = decoder_lstm ( decoder_embedding , initial_state=encoder_states )\n",
    "decoder_dense = tf.keras.layers.Dense( VOCAB_SIZE , activation=tf.keras.activations.softmax ) \n",
    "output = decoder_dense ( decoder_outputs )\n",
    "\n",
    "model = tf.keras.models.Model([encoder_inputs, decoder_inputs], output )\n",
    "model.compile(optimizer=tf.keras.optimizers.RMSprop(), loss=loss_function, metrics=['acc'])\n",
    "\n",
    "model.summary()"
   ]
  },
  {
   "cell_type": "code",
   "execution_count": 0,
   "metadata": {
    "colab": {
     "base_uri": "https://localhost:8080/",
     "height": 1000
    },
    "colab_type": "code",
    "id": "dflShwsw4mHR",
    "outputId": "96e97178-eb3b-4f5e-8135-56d200e3fc47",
    "scrolled": false
   },
   "outputs": [
    {
     "name": "stdout",
     "output_type": "stream",
     "text": [
      "Train on 3608 samples, validate on 902 samples\n",
      "Epoch 1/75\n",
      "3608/3608 [==============================] - 55s 15ms/sample - loss: 1.9597 - acc: 0.2939 - val_loss: 1.7123 - val_acc: 0.2774\n",
      "Epoch 2/75\n",
      "3608/3608 [==============================] - 42s 12ms/sample - loss: 1.3765 - acc: 0.4329 - val_loss: 1.4117 - val_acc: 0.4812\n",
      "Epoch 3/75\n",
      "3608/3608 [==============================] - 42s 12ms/sample - loss: 1.1548 - acc: 0.5035 - val_loss: 1.2714 - val_acc: 0.5336\n",
      "Epoch 4/75\n",
      "3608/3608 [==============================] - 43s 12ms/sample - loss: 1.0240 - acc: 0.5568 - val_loss: 1.1846 - val_acc: 0.5613\n",
      "Epoch 5/75\n",
      "3608/3608 [==============================] - 42s 12ms/sample - loss: 0.9230 - acc: 0.6004 - val_loss: 1.1224 - val_acc: 0.5684\n",
      "Epoch 6/75\n",
      "3608/3608 [==============================] - 43s 12ms/sample - loss: 0.8435 - acc: 0.6424 - val_loss: 1.0464 - val_acc: 0.6126\n",
      "Epoch 7/75\n",
      "3608/3608 [==============================] - 43s 12ms/sample - loss: 0.7753 - acc: 0.6735 - val_loss: 0.9938 - val_acc: 0.6376\n",
      "Epoch 8/75\n",
      "3608/3608 [==============================] - 43s 12ms/sample - loss: 0.7163 - acc: 0.6879 - val_loss: 0.9514 - val_acc: 0.6483\n",
      "Epoch 9/75\n",
      "3608/3608 [==============================] - 43s 12ms/sample - loss: 0.6679 - acc: 0.7045 - val_loss: 0.9270 - val_acc: 0.6546\n",
      "Epoch 10/75\n",
      "3608/3608 [==============================] - 43s 12ms/sample - loss: 0.6284 - acc: 0.7151 - val_loss: 0.9002 - val_acc: 0.6655\n",
      "Epoch 11/75\n",
      "3608/3608 [==============================] - 43s 12ms/sample - loss: 0.5931 - acc: 0.7262 - val_loss: 0.8789 - val_acc: 0.6626\n",
      "Epoch 12/75\n",
      "3608/3608 [==============================] - 43s 12ms/sample - loss: 0.5622 - acc: 0.7367 - val_loss: 0.8577 - val_acc: 0.6704\n",
      "Epoch 13/75\n",
      "3608/3608 [==============================] - 43s 12ms/sample - loss: 0.5348 - acc: 0.7473 - val_loss: 0.8425 - val_acc: 0.6805\n",
      "Epoch 14/75\n",
      "3608/3608 [==============================] - 43s 12ms/sample - loss: 0.5096 - acc: 0.7552 - val_loss: 0.8148 - val_acc: 0.6934\n",
      "Epoch 15/75\n",
      "3608/3608 [==============================] - 43s 12ms/sample - loss: 0.4867 - acc: 0.7619 - val_loss: 0.8022 - val_acc: 0.6990\n",
      "Epoch 16/75\n",
      "3608/3608 [==============================] - 43s 12ms/sample - loss: 0.4637 - acc: 0.7707 - val_loss: 0.7863 - val_acc: 0.6994\n",
      "Epoch 17/75\n",
      "3608/3608 [==============================] - 43s 12ms/sample - loss: 0.4425 - acc: 0.7777 - val_loss: 0.7823 - val_acc: 0.7119\n",
      "Epoch 18/75\n",
      "3608/3608 [==============================] - 43s 12ms/sample - loss: 0.4189 - acc: 0.7864 - val_loss: 0.7499 - val_acc: 0.7236\n",
      "Epoch 19/75\n",
      "3608/3608 [==============================] - 43s 12ms/sample - loss: 0.3958 - acc: 0.7951 - val_loss: 0.7266 - val_acc: 0.7367\n",
      "Epoch 20/75\n",
      "3608/3608 [==============================] - 43s 12ms/sample - loss: 0.3727 - acc: 0.8067 - val_loss: 0.7381 - val_acc: 0.7273\n",
      "Epoch 21/75\n",
      "3608/3608 [==============================] - 43s 12ms/sample - loss: 0.3533 - acc: 0.8121 - val_loss: 0.7099 - val_acc: 0.7375\n",
      "Epoch 22/75\n",
      "3608/3608 [==============================] - 42s 12ms/sample - loss: 0.3332 - acc: 0.8246 - val_loss: 0.6982 - val_acc: 0.7447\n",
      "Epoch 23/75\n",
      "3608/3608 [==============================] - 42s 12ms/sample - loss: 0.3146 - acc: 0.8329 - val_loss: 0.6768 - val_acc: 0.7492\n",
      "Epoch 24/75\n",
      "3608/3608 [==============================] - 43s 12ms/sample - loss: 0.2967 - acc: 0.8445 - val_loss: 0.6959 - val_acc: 0.7513\n",
      "Epoch 25/75\n",
      "3608/3608 [==============================] - 43s 12ms/sample - loss: 0.2801 - acc: 0.8510 - val_loss: 0.6591 - val_acc: 0.7617\n",
      "Epoch 26/75\n",
      "3608/3608 [==============================] - 42s 12ms/sample - loss: 0.2659 - acc: 0.8558 - val_loss: 0.6555 - val_acc: 0.7642\n",
      "Epoch 27/75\n",
      "3608/3608 [==============================] - 42s 12ms/sample - loss: 0.2502 - acc: 0.8638 - val_loss: 0.6474 - val_acc: 0.7632\n",
      "Epoch 28/75\n",
      "3608/3608 [==============================] - 43s 12ms/sample - loss: 0.2360 - acc: 0.8707 - val_loss: 0.6356 - val_acc: 0.7700\n",
      "Epoch 29/75\n",
      "3608/3608 [==============================] - 43s 12ms/sample - loss: 0.2236 - acc: 0.8783 - val_loss: 0.6328 - val_acc: 0.7743\n",
      "Epoch 30/75\n",
      "3608/3608 [==============================] - 42s 12ms/sample - loss: 0.2104 - acc: 0.8846 - val_loss: 0.6384 - val_acc: 0.7741\n",
      "Epoch 31/75\n",
      "3608/3608 [==============================] - 43s 12ms/sample - loss: 0.1983 - acc: 0.8928 - val_loss: 0.6207 - val_acc: 0.7833\n",
      "Epoch 32/75\n",
      "3608/3608 [==============================] - 42s 12ms/sample - loss: 0.1863 - acc: 0.9000 - val_loss: 0.6260 - val_acc: 0.7757\n",
      "Epoch 33/75\n",
      "3608/3608 [==============================] - 42s 12ms/sample - loss: 0.1762 - acc: 0.9064 - val_loss: 0.6394 - val_acc: 0.7749\n",
      "Epoch 34/75\n",
      "3608/3608 [==============================] - 43s 12ms/sample - loss: 0.1664 - acc: 0.9108 - val_loss: 0.6315 - val_acc: 0.7730\n",
      "Epoch 35/75\n",
      "3608/3608 [==============================] - 42s 12ms/sample - loss: 0.1567 - acc: 0.9156 - val_loss: 0.6028 - val_acc: 0.7849\n",
      "Epoch 36/75\n",
      "3608/3608 [==============================] - 42s 12ms/sample - loss: 0.1472 - acc: 0.9199 - val_loss: 0.5990 - val_acc: 0.7913\n",
      "Epoch 37/75\n",
      "3608/3608 [==============================] - 43s 12ms/sample - loss: 0.1385 - acc: 0.9249 - val_loss: 0.6057 - val_acc: 0.7907\n",
      "Epoch 38/75\n",
      "3608/3608 [==============================] - 43s 12ms/sample - loss: 0.1305 - acc: 0.9308 - val_loss: 0.6105 - val_acc: 0.7880\n",
      "Epoch 39/75\n",
      "3608/3608 [==============================] - 43s 12ms/sample - loss: 0.1226 - acc: 0.9331 - val_loss: 0.5943 - val_acc: 0.7921\n",
      "Epoch 40/75\n",
      "3608/3608 [==============================] - 43s 12ms/sample - loss: 0.1161 - acc: 0.9390 - val_loss: 0.6068 - val_acc: 0.7929\n",
      "Epoch 41/75\n",
      "3608/3608 [==============================] - 43s 12ms/sample - loss: 0.1086 - acc: 0.9427 - val_loss: 0.6130 - val_acc: 0.7934\n",
      "Epoch 42/75\n",
      "3608/3608 [==============================] - 42s 12ms/sample - loss: 0.1028 - acc: 0.9453 - val_loss: 0.6269 - val_acc: 0.7882\n",
      "Epoch 43/75\n",
      "3608/3608 [==============================] - 43s 12ms/sample - loss: 0.0977 - acc: 0.9472 - val_loss: 0.6118 - val_acc: 0.7970\n",
      "Epoch 44/75\n",
      "3608/3608 [==============================] - 43s 12ms/sample - loss: 0.0895 - acc: 0.9530 - val_loss: 0.6079 - val_acc: 0.7946\n",
      "Epoch 45/75\n",
      "3608/3608 [==============================] - 43s 12ms/sample - loss: 0.0854 - acc: 0.9545 - val_loss: 0.6057 - val_acc: 0.8016\n",
      "Epoch 46/75\n",
      "3608/3608 [==============================] - 43s 12ms/sample - loss: 0.0800 - acc: 0.9566 - val_loss: 0.6032 - val_acc: 0.8050\n",
      "Epoch 47/75\n",
      "3608/3608 [==============================] - 43s 12ms/sample - loss: 0.0758 - acc: 0.9594 - val_loss: 0.6121 - val_acc: 0.8007\n",
      "Epoch 48/75\n",
      "3608/3608 [==============================] - 43s 12ms/sample - loss: 0.0722 - acc: 0.9604 - val_loss: 0.6057 - val_acc: 0.8034\n",
      "Epoch 49/75\n",
      "3608/3608 [==============================] - 43s 12ms/sample - loss: 0.0671 - acc: 0.9637 - val_loss: 0.6093 - val_acc: 0.8024\n",
      "Epoch 50/75\n",
      "3608/3608 [==============================] - 42s 12ms/sample - loss: 0.0630 - acc: 0.9663 - val_loss: 0.6055 - val_acc: 0.7987\n",
      "Epoch 51/75\n",
      "3608/3608 [==============================] - 43s 12ms/sample - loss: 0.0586 - acc: 0.9693 - val_loss: 0.5991 - val_acc: 0.8057\n",
      "Epoch 52/75\n",
      "3608/3608 [==============================] - 42s 12ms/sample - loss: 0.0553 - acc: 0.9709 - val_loss: 0.6116 - val_acc: 0.8020\n",
      "Epoch 53/75\n",
      "3608/3608 [==============================] - 43s 12ms/sample - loss: 0.0516 - acc: 0.9741 - val_loss: 0.6091 - val_acc: 0.8065\n",
      "Epoch 54/75\n",
      "3608/3608 [==============================] - 43s 12ms/sample - loss: 0.0494 - acc: 0.9738 - val_loss: 0.6121 - val_acc: 0.8061\n",
      "Epoch 55/75\n",
      "3608/3608 [==============================] - 43s 12ms/sample - loss: 0.0463 - acc: 0.9767 - val_loss: 0.6112 - val_acc: 0.8036\n",
      "Epoch 56/75\n",
      "3608/3608 [==============================] - 42s 12ms/sample - loss: 0.0440 - acc: 0.9770 - val_loss: 0.6149 - val_acc: 0.8040\n",
      "Epoch 57/75\n",
      "3608/3608 [==============================] - 42s 12ms/sample - loss: 0.0410 - acc: 0.9796 - val_loss: 0.6148 - val_acc: 0.8059\n",
      "Epoch 58/75\n",
      "3608/3608 [==============================] - 43s 12ms/sample - loss: 0.0394 - acc: 0.9802 - val_loss: 0.6113 - val_acc: 0.8085\n",
      "Epoch 59/75\n",
      "3608/3608 [==============================] - 42s 12ms/sample - loss: 0.0367 - acc: 0.9809 - val_loss: 0.6192 - val_acc: 0.8046\n",
      "Epoch 60/75\n",
      "3608/3608 [==============================] - 43s 12ms/sample - loss: 0.0349 - acc: 0.9824 - val_loss: 0.6122 - val_acc: 0.8089\n",
      "Epoch 61/75\n",
      "3608/3608 [==============================] - 42s 12ms/sample - loss: 0.0336 - acc: 0.9819 - val_loss: 0.6132 - val_acc: 0.8110\n",
      "Epoch 62/75\n",
      "3608/3608 [==============================] - 42s 12ms/sample - loss: 0.0323 - acc: 0.9827 - val_loss: 0.6134 - val_acc: 0.8098\n",
      "Epoch 63/75\n",
      "3608/3608 [==============================] - 42s 12ms/sample - loss: 0.0299 - acc: 0.9845 - val_loss: 0.6262 - val_acc: 0.8048\n",
      "Epoch 64/75\n",
      "3608/3608 [==============================] - 42s 12ms/sample - loss: 0.0292 - acc: 0.9849 - val_loss: 0.6193 - val_acc: 0.8118\n",
      "Epoch 65/75\n",
      "3608/3608 [==============================] - 42s 12ms/sample - loss: 0.0262 - acc: 0.9876 - val_loss: 0.6239 - val_acc: 0.8106\n",
      "Epoch 66/75\n",
      "3608/3608 [==============================] - 43s 12ms/sample - loss: 0.0255 - acc: 0.9864 - val_loss: 0.6175 - val_acc: 0.8155\n",
      "Epoch 67/75\n",
      "3608/3608 [==============================] - 42s 12ms/sample - loss: 0.0247 - acc: 0.9861 - val_loss: 0.6167 - val_acc: 0.8153\n",
      "Epoch 68/75\n",
      "3608/3608 [==============================] - 42s 12ms/sample - loss: 0.0239 - acc: 0.9872 - val_loss: 0.6200 - val_acc: 0.8157\n",
      "Epoch 69/75\n",
      "3608/3608 [==============================] - 42s 12ms/sample - loss: 0.0211 - acc: 0.9886 - val_loss: 0.6353 - val_acc: 0.8038\n",
      "Epoch 70/75\n",
      "3608/3608 [==============================] - 42s 12ms/sample - loss: 0.0211 - acc: 0.9885 - val_loss: 0.6295 - val_acc: 0.8147\n",
      "Epoch 71/75\n",
      "3608/3608 [==============================] - 42s 12ms/sample - loss: 0.0200 - acc: 0.9890 - val_loss: 0.6351 - val_acc: 0.8118\n",
      "Epoch 72/75\n",
      "3608/3608 [==============================] - 43s 12ms/sample - loss: 0.0189 - acc: 0.9897 - val_loss: 0.6356 - val_acc: 0.8089\n",
      "Epoch 73/75\n",
      "3608/3608 [==============================] - 42s 12ms/sample - loss: 0.0174 - acc: 0.9909 - val_loss: 0.6421 - val_acc: 0.8112\n",
      "Epoch 74/75\n",
      "3608/3608 [==============================] - 42s 12ms/sample - loss: 0.0177 - acc: 0.9904 - val_loss: 0.6315 - val_acc: 0.8118\n",
      "Epoch 75/75\n",
      "3608/3608 [==============================] - 43s 12ms/sample - loss: 0.0168 - acc: 0.9904 - val_loss: 0.6522 - val_acc: 0.8120\n"
     ]
    }
   ],
   "source": [
    "# Train model\n",
    "model.fit([encoder_input_data , decoder_input_data], decoder_output_data,\n",
    "          batch_size=batch_size, epochs=num_epochs,\n",
    "          validation_split=validation_split ) \n",
    "\n",
    "# Save model\n",
    "model.save( os.path.join(save_path, model_filename) ) "
   ]
  },
  {
   "cell_type": "markdown",
   "metadata": {
    "colab_type": "text",
    "id": "byY-Yz2YR52p"
   },
   "source": [
    "### Loss plots"
   ]
  },
  {
   "cell_type": "code",
   "execution_count": 0,
   "metadata": {
    "colab": {},
    "colab_type": "code",
    "id": "K-lepBx3Rn9r"
   },
   "outputs": [],
   "source": [
    "import matplotlib.pyplot as plt\n",
    "plt.style.use('ggplot')"
   ]
  },
  {
   "cell_type": "code",
   "execution_count": 0,
   "metadata": {
    "colab": {
     "base_uri": "https://localhost:8080/",
     "height": 625
    },
    "colab_type": "code",
    "id": "wF4O1HCZU6yH",
    "outputId": "bcd10357-65a9-4b3a-d248-c2d94377677c"
   },
   "outputs": [
    {
     "data": {
      "image/png": "[encoded data removed]",
      "text/plain": [
       "<Figure size 720x720 with 2 Axes>"
      ]
     },
     "metadata": {
      "tags": []
     },
     "output_type": "display_data"
    }
   ],
   "source": [
    "acc = model.history.history['acc']\n",
    "val_acc = model.history.history['val_acc']\n",
    "loss = model.history.history['loss']\n",
    "val_loss = model.history.history['val_loss']\n",
    "epochs = range(1, len(acc) + 1)\n",
    "\n",
    "# Loss and Accuracy Plots\n",
    "nrows = 2\n",
    "fig, axes = plt.subplots(nrows=nrows, ncols=1, figsize=(10,10))\n",
    "axes[0].plot(epochs, acc, label='Training acc')\n",
    "axes[0].plot(epochs, val_acc, label='Validation acc')\n",
    "axes[0].set_title('Training and Validation')\n",
    "axes[0].set_ylabel('Accuracy')\n",
    "\n",
    "axes[1].plot(epochs, loss, label='Training loss')\n",
    "axes[1].plot(epochs, val_loss, label='Validation loss')\n",
    "axes[1].set_ylabel('{} Loss'.format(loss_function))\n",
    "axes[1].set_xlabel('Epoch')\n",
    "\n",
    "for i in range(nrows):\n",
    "    axes[i].legend()\n",
    "\n",
    "# Save image\n",
    "IMAGES_PATH = os.path.join(save_path, learning_curve_image_name)\n",
    "plt.savefig(IMAGES_PATH, bbox_inches = 'tight')"
   ]
  },
  {
   "cell_type": "code",
   "execution_count": 0,
   "metadata": {
    "colab": {},
    "colab_type": "code",
    "id": "NmEsZueVIxHW"
   },
   "outputs": [],
   "source": [
    "# save model information\n",
    "save_path = './drive/My Drive/deep_form/'\n",
    "file_name = 'vocab_info.txt'\n",
    "flen = open(os.path.join(save_path, file_name),'w+')\n",
    "flen.write('Model time stamp: {}\\n'.format(timestamp))\n",
    "flen.write('Number of samples: {}\\n'.format(len(input_texts)))\n",
    "flen.write('VOCAB SIZE : {}\\n'.format( VOCAB_SIZE ))\n",
    "flen.write('Max input sequence length: {}\\n'.format(maxlen_inputs))\n",
    "flen.write('Max target sequence length: {}\\n'.format(maxlen_targets))\n",
    "flen.write(\"Encoder input shape: {}\\n\".format(encoder_input_data.shape , maxlen_inputs ))\n",
    "flen.write(\"Decoder input shape: {}\\n\".format(decoder_input_data.shape , maxlen_targets ))\n",
    "flen.write(\"Decoder output data shape: {}\\n\".format(decoder_output_data.shape ))\n",
    "flen.write(\"Batch size: {}\\n\".format(batch_size))\n",
    "flen.write(\"Number of epochs: {}\\n\".format(num_epochs))\n",
    "flen.write(\"Number of units in encoder and decoder: {}\\n\".format(num_units))\n",
    "flen.write(\"Loss function: {}\\n\".format(loss_function))\n",
    "flen.write(\"Validation split: {}\\n\".format(validation_split))\n",
    "flen.close()"
   ]
  },
  {
   "cell_type": "markdown",
   "metadata": {
    "colab_type": "text",
    "id": "_fAd5F8_4n9f"
   },
   "source": [
    "## Inference Section"
   ]
  },
  {
   "cell_type": "code",
   "execution_count": 0,
   "metadata": {
    "colab": {},
    "colab_type": "code",
    "id": "tUjujjh_4ruR"
   },
   "outputs": [],
   "source": [
    "def make_inference_models():\n",
    "    \"\"\"\n",
    "    Create inference models which help in predicting answers.\n",
    "    Encoder inference model : Takes the question as input and outputs LSTM states ( h and c ).\n",
    "    Decoder inference model : Takes in 2 inputs, one are the LSTM states ( Output of encoder model ),\n",
    "    second are the answer input seqeunces ( ones not having the <start> tag ). It will output the\n",
    "    answers for the question which we fed to the encoder model and its state values.\n",
    "    \"\"\"\n",
    "    \n",
    "    encoder_model = tf.keras.models.Model(encoder_inputs, encoder_states)\n",
    "    \n",
    "    decoder_state_input_h = tf.keras.layers.Input(shape=( 200 ,))\n",
    "    decoder_state_input_c = tf.keras.layers.Input(shape=( 200 ,))\n",
    "    \n",
    "    decoder_states_inputs = [decoder_state_input_h, decoder_state_input_c]\n",
    "    \n",
    "    decoder_outputs, state_h, state_c = decoder_lstm(\n",
    "        decoder_embedding , initial_state=decoder_states_inputs)\n",
    "    decoder_states = [state_h, state_c]\n",
    "    decoder_outputs = decoder_dense(decoder_outputs)\n",
    "    decoder_model = tf.keras.models.Model(\n",
    "        [decoder_inputs] + decoder_states_inputs,\n",
    "        [decoder_outputs] + decoder_states)\n",
    "    \n",
    "    return encoder_model , decoder_model\n",
    "\n",
    "def str_to_tokens( sentence : str ):\n",
    "    \"\"\"\n",
    "    Define a method str_to_tokens which converts str input to Integer tokens with padding.\n",
    "    \"\"\"\n",
    "    words = sentence.lower().split()\n",
    "    tokens_list = list()\n",
    "    for word in words:\n",
    "        tokens_list.append( tokenizer.word_index[ word ] ) \n",
    "    return preprocessing.sequence.pad_sequences( [tokens_list] , maxlen=maxlen_inputs , padding='post')\n"
   ]
  },
  {
   "cell_type": "markdown",
   "metadata": {
    "colab_type": "text",
    "id": "zAUuVSBl4yYN"
   },
   "source": [
    "---\n",
    "---\n",
    "## Insert sequence input to get a committee name\n",
    "This is cheating, but let's try to give it a token from our training set and see if it is mapping to what it has already seen. In this case, it should spit out the corrct committee name."
   ]
  },
  {
   "cell_type": "markdown",
   "metadata": {
    "colab_type": "text",
    "id": "Oth9lKmI7MLp"
   },
   "source": [
    "What happens when we give it a slug's tokens it has already seen?  \n",
    "Attempt_1 :"
   ]
  },
  {
   "cell_type": "code",
   "execution_count": 0,
   "metadata": {
    "colab": {
     "base_uri": "https://localhost:8080/",
     "height": 51
    },
    "colab_type": "code",
    "id": "P9pZXC0YI6nX",
    "outputId": "273875bb-aad3-4b47-a9c3-ce9220199fba"
   },
   "outputs": [
    {
     "name": "stdout",
     "output_type": "stream",
     "text": [
      "Expected output from below: \n",
      "<START> democratic congressional campaign committee <END>\n"
     ]
    }
   ],
   "source": [
    "instance = 7\n",
    "# Grab only first 500 strings, be careful to check it is in vocab.\n",
    "input_test = input_texts[instance][:500] \n",
    "\n",
    "print(\"Expected output from below: \")\n",
    "print(target_texts[instance])"
   ]
  },
  {
   "cell_type": "code",
   "execution_count": 0,
   "metadata": {
    "colab": {
     "base_uri": "https://localhost:8080/",
     "height": 71
    },
    "colab_type": "code",
    "id": "OfoOw75746Qq",
    "outputId": "f23b6ddc-eb29-4fe5-af50-23f1e3d0ea27"
   },
   "outputs": [
    {
     "name": "stdout",
     "output_type": "stream",
     "text": [
      "Enter tokens from a slug : print date page 1 3 order order order rev 707565 alt order 06283268 product desc issdccc estim 1473 kare flight date primari ae jim quinn origin date rev sale offic tphi order type polit sale region nat agenc name great american media pol buy contact bill type cash bill contact bill calendar broadcast 1010 wisconsin ave nw ste 800 bill cycl eomeoc washington dc 20007 agenc commiss advertis name democrat congression campaign committe demograph a35 new busi thru product code iscandidateu hous\n",
      " democratic congressional campaign committee end\n"
     ]
    }
   ],
   "source": [
    "enc_model , dec_model = make_inference_models()\n",
    "\n",
    "states_values = enc_model.predict( str_to_tokens( input( 'Enter tokens from a slug : ' ) ) )\n",
    "empty_target_seq = np.zeros( ( 1 , 1 ) )\n",
    "empty_target_seq[0, 0] = tokenizer.word_index['start']\n",
    "stop_condition = False\n",
    "decoded_translation = ''\n",
    "while not stop_condition :\n",
    "    dec_outputs , h , c = dec_model.predict([ empty_target_seq ] + states_values )\n",
    "    sampled_word_index = np.argmax( dec_outputs[0, -1, :] )\n",
    "    sampled_word = None\n",
    "    for word , index in tokenizer.word_index.items() :\n",
    "        if sampled_word_index == index :\n",
    "            decoded_translation += ' {}'.format( word )\n",
    "            sampled_word = word\n",
    "    \n",
    "    if sampled_word == 'end' or len(decoded_translation.split()) > maxlen_targets:\n",
    "        stop_condition = True\n",
    "        \n",
    "    empty_target_seq = np.zeros( ( 1 , 1 ) )  \n",
    "    empty_target_seq[ 0 , 0 ] = sampled_word_index\n",
    "    states_values = [ h , c ] \n",
    "\n",
    "print( decoded_translation )"
   ]
  },
  {
   "cell_type": "markdown",
   "metadata": {
    "colab_type": "text",
    "id": "ksCJhWIr7CoP"
   },
   "source": [
    "Attempt 2:"
   ]
  },
  {
   "cell_type": "code",
   "execution_count": 0,
   "metadata": {
    "colab": {},
    "colab_type": "code",
    "id": "KWtGkbVWJpMl"
   },
   "outputs": [],
   "source": [
    "instance = 42\n",
    "input_test = input_texts[instance][:500] # Grab only first 500 strings, be careful to check it is in vocab."
   ]
  },
  {
   "cell_type": "code",
   "execution_count": 0,
   "metadata": {
    "colab": {
     "base_uri": "https://localhost:8080/",
     "height": 71
    },
    "colab_type": "code",
    "id": "wJyvS7fw5jxv",
    "outputId": "8d671a37-8eaf-407f-a49b-cf0fd5778857"
   },
   "outputs": [
    {
     "name": "stdout",
     "output_type": "stream",
     "text": [
      "Enter tokens from a slug : contract agreement print date page 1 2 contract wvit contract revis alt order 1422 new britain ave 329181 west hartford ct 06110 product primari tv contract date estim 2597 advertis origin date revis lisa wilsonfoley congress bill cycl bill calendar cashtrad eomeoc broadcast cash strateg media placement station account execut sale offic 7669 stager loop delawar oh 43015 wvit janet schmidt detroit nso special handl demograph rhh total rate idb advertis code product code agenc ref advertis r\n",
      " d tarkanian for cong end\n"
     ]
    }
   ],
   "source": [
    "enc_model , dec_model = make_inference_models()\n",
    "\n",
    "states_values = enc_model.predict( str_to_tokens( input( 'Enter tokens from a slug : ' ) ) )\n",
    "empty_target_seq = np.zeros( ( 1 , 1 ) )\n",
    "empty_target_seq[0, 0] = tokenizer.word_index['start']\n",
    "stop_condition = False\n",
    "decoded_translation = ''\n",
    "while not stop_condition :\n",
    "    dec_outputs , h , c = dec_model.predict([ empty_target_seq ] + states_values )\n",
    "    sampled_word_index = np.argmax( dec_outputs[0, -1, :] )\n",
    "    sampled_word = None\n",
    "    for word , index in tokenizer.word_index.items() :\n",
    "        if sampled_word_index == index :\n",
    "            decoded_translation += ' {}'.format( word )\n",
    "            sampled_word = word\n",
    "    \n",
    "    if sampled_word == 'end' or len(decoded_translation.split()) > maxlen_targets:\n",
    "        stop_condition = True\n",
    "        \n",
    "    empty_target_seq = np.zeros( ( 1 , 1 ) )  \n",
    "    empty_target_seq[ 0 , 0 ] = sampled_word_index\n",
    "    states_values = [ h , c ] \n",
    "\n",
    "print( decoded_translation )\n",
    "\n"
   ]
  },
  {
   "cell_type": "code",
   "execution_count": 0,
   "metadata": {
    "colab": {
     "base_uri": "https://localhost:8080/",
     "height": 102
    },
    "colab_type": "code",
    "id": "X7i1cbrOKpt2",
    "outputId": "013c300e-a8c2-4503-ae60-ba08d3a9b966"
   },
   "outputs": [
    {
     "name": "stdout",
     "output_type": "stream",
     "text": [
      "This is what it should spit out:\n",
      "<START> lisa wilson-foley for congress <END>\n",
      "\n",
      "What we have returned:\n",
      " d tarkanian for cong end\n"
     ]
    }
   ],
   "source": [
    "print(\"This is what it should spit out:\\n{}\".format(target_texts[instance]))\n",
    "\n",
    "print(\"\\nWhat we have returned:\\n{}\".format(decoded_translation))"
   ]
  },
  {
   "cell_type": "markdown",
   "metadata": {
    "colab_type": "text",
    "id": "TXN_aeHAKJYy"
   },
   "source": [
    "---\n",
    "---\n",
    "### To Do [as of 25/03/20]:\n",
    "* Use this on a test set.  \n",
    "\n",
    "* Fix decoder so it automatically removes tokens it has never seen before.  \n",
    "\n",
    "* Rewrite decoder as a functin."
   ]
  }
 ],
 "metadata": {
  "accelerator": "GPU",
  "colab": {
   "machine_shape": "hm",
   "name": "seq2seq_lstm.ipynb",
   "provenance": []
  },
  "kernelspec": {
   "display_name": "Python 3",
   "language": "python",
   "name": "python3"
  },
  "language_info": {
   "codemirror_mode": {
    "name": "ipython",
    "version": 3
   },
   "file_extension": ".py",
   "mimetype": "text/x-python",
   "name": "python",
   "nbconvert_exporter": "python",
   "pygments_lexer": "ipython3",
   "version": "3.6.3"
  }
 },
 "nbformat": 4,
 "nbformat_minor": 1
}
